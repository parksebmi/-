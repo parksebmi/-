{
  "nbformat": 4,
  "nbformat_minor": 0,
  "metadata": {
    "colab": {
      "name": "Untitled12.ipynb",
      "provenance": [],
      "authorship_tag": "ABX9TyNWtnz6Sfm4CmN1mobCHOea",
      "include_colab_link": true
    },
    "kernelspec": {
      "name": "python3",
      "display_name": "Python 3"
    },
    "language_info": {
      "name": "python"
    }
  },
  "cells": [
    {
      "cell_type": "markdown",
      "metadata": {
        "id": "view-in-github",
        "colab_type": "text"
      },
      "source": [
        "<a href=\"https://colab.research.google.com/github/parksebmi/-/blob/main/Untitled12.ipynb\" target=\"_parent\"><img src=\"https://colab.research.google.com/assets/colab-badge.svg\" alt=\"Open In Colab\"/></a>"
      ]
    },
    {
      "cell_type": "code",
      "metadata": {
        "id": "vILZltOjH20b"
      },
      "source": [
        "import pandas as pd\n",
        "import matplotlib as mpl\n",
        "import matplotlib.pyplot as plt\n",
        "from matplotlib.widgets import Button\n",
        "from matplotlib import font_manager, rc\n",
        "import numpy as np\n",
        "import csv\n",
        "import seaborn as sns\n",
        "from sklearn.preprocessing import MinMaxScaler, RobustScaler, StandardScaler\n",
        "from sklearn.model_selection import train_test_split\n",
        "from sklearn.neural_network import MLPClassifier\n",
        "\n",
        "import sklearn.svm as svm\n",
        "import sklearn.metrics as mt\n",
        "from sklearn.model_selection import cross_val_score, cross_validate\n",
        "\n",
        "df_source = pd.read_csv('https://www.data.go.kr/cmm/cmm/fileDownload.do?atchFileId=FILE_000000002361159&fileDetailSn=1&dataNm=%EA%B5%AD%EB%AF%BC%EA%B1%B4%EA%B0%95%EB%B3%B4%ED%97%98%EA%B3%B5%EB%8B%A8_%EA%B1%B4%EA%B0%95%EA%B2%80%EC%A7%84%EC%A0%95%EB%B3%B4_20191231', encoding='cp949')\n",
        "df_source = df_source.drop_duplicates() # 중복값 제거\n",
        "df_source = df_source.dropna() # 결측값 제거\n",
        "df_source\n",
        "\n",
        "x = df_source.drop(['성별코드','기준년도','가입자 일련번호','시도코드','데이터 공개일자','결손치 유무','치아마모증유무','제3대구치(사랑니) 이상'], axis=1) # 성별특성을 제외한 모든 특성의 데이터\n",
        "y = df_source['성별코드']\n",
        "\n",
        "np.random.seed(5)\n",
        "x_train, x_test, y_train, y_test = train_test_split(x, y, test_size=0.3, random_state=42)\n",
        "s=svm.SVC(gamma=0.001)\n",
        "s.fit(x_train,y_train)\n",
        "res=s.predict(x_test)\n"
      ],
      "execution_count": 7,
      "outputs": []
    },
    {
      "cell_type": "code",
      "metadata": {
        "colab": {
          "base_uri": "https://localhost:8080/"
        },
        "id": "NsjKJjEFM7bQ",
        "outputId": "9c482cb6-3cae-42fe-a43d-5b42bb6d8645"
      },
      "source": [
        "# 테스트 셋 정확도 \n",
        "accuracy = float(s.score(x_test, y_test))\n",
        "print('테스트 셋 정확도: %.4f' %accuracy)\n",
        "\n",
        "# 훈련 셋 정확도 \n",
        "accuracy = float(s.score(x_train, y_train))\n",
        "print('훈련 셋 정확도: %.4f' %accuracy)"
      ],
      "execution_count": 10,
      "outputs": [
        {
          "output_type": "stream",
          "text": [
            "테스트 셋 정확도: 0.9258\n",
            "훈련 셋 정확도: 0.9653\n"
          ],
          "name": "stdout"
        }
      ]
    }
  ]
}